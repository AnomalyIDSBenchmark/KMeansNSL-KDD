{
 "cells": [
  {
   "cell_type": "markdown",
   "metadata": {},
   "source": [
    "# Implementation of K-Means Clustering on NSL-KDD Dataset\n",
    "Using Method Described in *\"K-Means Clustering Approach to Analyze\n",
    "NSL-KDD Intrusion Detection Dataset\"* found [here](http://citeseerx.ist.psu.edu/viewdoc/download?doi=10.1.1.413.589&rep=rep1&type=pdf).\n",
    "\n",
    "Uses Weka with a python wrapper to cluster [NSL-KDD dataset](http://www.unb.ca/cic/research/datasets/nsl.html) and analyze results.\n",
    "\n",
    "## Step 1 - Start Java Virtual Machine"
   ]
  },
  {
   "cell_type": "code",
   "execution_count": 1,
   "metadata": {},
   "outputs": [
    {
     "name": "stderr",
     "output_type": "stream",
     "text": [
      "DEBUG:weka.core.jvm:Adding bundled jars\n",
      "DEBUG:weka.core.jvm:Classpath=['C:\\\\Users\\\\Nick\\\\Miniconda3\\\\lib\\\\site-packages\\\\javabridge\\\\jars\\\\rhino-1.7R4.jar', 'C:\\\\Users\\\\Nick\\\\Miniconda3\\\\lib\\\\site-packages\\\\javabridge\\\\jars\\\\runnablequeue.jar', 'C:\\\\Users\\\\Nick\\\\Miniconda3\\\\lib\\\\site-packages\\\\javabridge\\\\jars\\\\cpython.jar', 'C:\\\\Users\\\\Nick\\\\Miniconda3\\\\lib\\\\site-packages\\\\weka\\\\lib\\\\python-weka-wrapper.jar', 'C:\\\\Users\\\\Nick\\\\Miniconda3\\\\lib\\\\site-packages\\\\weka\\\\lib\\\\weka.jar']\n",
      "DEBUG:weka.core.jvm:MaxHeapSize=2g\n",
      "DEBUG:javabridge.jutil:Creating JVM object\n",
      "DEBUG:javabridge.jutil:Signalling caller\n"
     ]
    }
   ],
   "source": [
    "import os\n",
    "cwd = os.getcwd()\n",
    "\n",
    "import weka.core.jvm as jvm\n",
    "jvm.start(max_heap_size=\"2g\")"
   ]
  },
  {
   "cell_type": "markdown",
   "metadata": {},
   "source": [
    "## Step 2 - Load dataset\n",
    "We use the training dataset provided by NSL-KDD in .arff format, and we tell weka that the class is in the last column of the table."
   ]
  },
  {
   "cell_type": "code",
   "execution_count": 2,
   "metadata": {
    "collapsed": true
   },
   "outputs": [],
   "source": [
    "from weka.core.converters import Loader\n",
    "loader = Loader(classname=\"weka.core.converters.ArffLoader\")\n",
    "data = loader.load_file(cwd + \"\\data\\KDDTrain+.arff\")\n",
    "data.class_is_last()"
   ]
  },
  {
   "cell_type": "markdown",
   "metadata": {},
   "source": [
    "## Step 3 - Filter and Normalize the Data\n",
    "We do not want the class to be visible to the clustering algorithm, and we want to normalize all numerical values to a range of [0-1]."
   ]
  },
  {
   "cell_type": "code",
   "execution_count": 3,
   "metadata": {
    "collapsed": true
   },
   "outputs": [],
   "source": [
    "from weka.filters import Filter\n",
    "remove = Filter(classname=\"weka.filters.unsupervised.attribute.Remove\", options=[\"-R\", \"last\"])\n",
    "remove.inputformat(data)\n",
    "data_no_class = remove.filter(data)\n",
    "\n",
    "norm = Filter(classname=\"weka.filters.unsupervised.attribute.Normalize\")\n",
    "norm.inputformat(data_no_class)\n",
    "norm_data = norm.filter(data_no_class)"
   ]
  },
  {
   "cell_type": "markdown",
   "metadata": {},
   "source": [
    "# Step 4 - Build Cluster and Evaluate\n",
    "We will use the Simple K-Means clustering algorithm, with 4 clusters.\n",
    "* First we train it on the data\n",
    "* Then we evaluate it on the original dataset using classes to clusters"
   ]
  },
  {
   "cell_type": "code",
   "execution_count": 4,
   "metadata": {},
   "outputs": [
    {
     "name": "stdout",
     "output_type": "stream",
     "text": [
      "\n",
      "kMeans\n",
      "======\n",
      "\n",
      "Number of iterations: 6\n",
      "Within cluster sum of squared errors: 161122.68303550128\n",
      "\n",
      "Initial starting points (random):\n",
      "\n",
      "Cluster 0: 0,udp,domain_u,SF,0,0,0,0,0,0,0,0,0,0,0,0,0,0,0,0,0,0,0.136986,0.293542,0,0,0,0,1,0,0.01,1,0.996078,1,0.01,0,0,0,0,0,0\n",
      "Cluster 1: 0,tcp,ftp_data,SF,0,0,0,0,0,0,0,1,0,0,0,0,0,0,0,0,0,0,0.003914,0.003914,0,0,0,0,1,0,0,0.717647,0.32549,0.45,0.02,0.45,0,0,0,0,0\n",
      "Cluster 2: 0,tcp,private,S0,0,0,0,0,0,0,0,0,0,0,0,0,0,0,0,0,0,0,0.542074,0.019569,1,1,0,0,0.04,0.06,0,1,0.035294,0.04,0.06,0,0,1,1,0,0\n",
      "Cluster 3: 0,tcp,http,SF,0,0.000001,0,0,0,0,0,1,0,0,0,0,0,0,0,0,0,0,0.009785,0.039139,0,0,0,0,1,0,0.25,0.156863,1,1,0,0.03,0.04,0,0,0,0\n",
      "\n",
      "Missing values globally replaced with mean/mode\n",
      "\n",
      "Final cluster centroids:\n",
      "                                         Cluster#\n",
      "Attribute                     Full Data         0         1         2         3\n",
      "                             (125973.0) (25779.0) (15024.0) (34973.0) (50197.0)\n",
      "===============================================================================\n",
      "duration                         0.0067    0.0066    0.0397         0    0.0015\n",
      "protocol_type                       tcp       udp       tcp       tcp       tcp\n",
      "service                            http  domain_u   private   private      http\n",
      "flag                                 SF        SF       REJ        S0        SF\n",
      "src_bytes                             0         0    0.0002         0         0\n",
      "dst_bytes                             0         0    0.0001         0         0\n",
      "land                                  0         0         0         0         0\n",
      "wrong_fragment                   0.0076     0.037         0         0         0\n",
      "urgent                                0         0         0         0    0.0001\n",
      "hot                              0.0027         0    0.0001         0    0.0066\n",
      "num_failed_logins                0.0002    0.0004    0.0008         0    0.0002\n",
      "logged_in                             0         0         0         0         1\n",
      "num_compromised                       0         0         0         0    0.0001\n",
      "root_shell                       0.0013         0    0.0001    0.0001    0.0032\n",
      "su_attempted                     0.0006         0    0.0001    0.0001    0.0013\n",
      "num_root                              0         0         0         0    0.0001\n",
      "num_file_creations               0.0003         0    0.0001         0    0.0007\n",
      "num_shells                       0.0002         0         0         0    0.0005\n",
      "num_access_files                 0.0005         0         0         0    0.0011\n",
      "num_outbound_cmds                     0         0         0         0         0\n",
      "is_host_login                         0         0         0         0         0\n",
      "is_guest_login                        0         0         0         0         0\n",
      "count                            0.1646    0.1701    0.2678    0.3315    0.0146\n",
      "srv_count                        0.0543    0.1924    0.0112    0.0214    0.0192\n",
      "serror_rate                      0.2845    0.0035    0.0114    0.9949    0.0156\n",
      "srv_serror_rate                  0.2825    0.0005    0.0016    0.9965    0.0139\n",
      "rerror_rate                        0.12    0.0004    0.9795    0.0041    0.0048\n",
      "srv_rerror_rate                  0.1212         0    0.9908    0.0014    0.0066\n",
      "same_srv_rate                    0.6609    0.9107    0.4047    0.1168    0.9885\n",
      "diff_srv_rate                    0.0631    0.0613    0.2004    0.0775    0.0128\n",
      "srv_diff_host_rate               0.0973    0.1754    0.0418    0.0023    0.1401\n",
      "dst_host_count                   0.7143    0.7087    0.7881    0.9674    0.5188\n",
      "dst_host_srv_count               0.4535    0.5083    0.1526    0.0577    0.7912\n",
      "dst_host_same_srv_rate           0.5212    0.6664    0.2022    0.0652    0.8599\n",
      "dst_host_diff_srv_rate            0.083    0.0961    0.2812    0.0754    0.0221\n",
      "dst_host_same_src_port_rate      0.1484    0.4362    0.1745    0.0121    0.0877\n",
      "dst_host_srv_diff_host_rate      0.0325    0.0836    0.0431    0.0015    0.0248\n",
      "dst_host_serror_rate             0.2845      0.01     0.014    0.9903    0.0146\n",
      "dst_host_srv_serror_rate         0.2785    0.0014    0.0018    0.9925    0.0061\n",
      "dst_host_rerror_rate             0.1188    0.0308    0.8891    0.0035    0.0139\n",
      "dst_host_srv_rerror_rate         0.1202    0.0005    0.9661    0.0013    0.0114\n",
      "\n",
      "\n",
      "Clustered Instances\n",
      "\n",
      "0       13322 ( 11%)\n",
      "1        2887 (  2%)\n",
      "2       57486 ( 46%)\n",
      "3       52278 ( 41%)\n",
      "\n",
      "\n",
      "Class attribute: class\n",
      "Classes to Clusters:\n",
      "\n",
      "     0     1     2     3  <-- assigned to cluster\n",
      "  9915  1699  8354 47375 | normal\n",
      "  3407  1188 49132  4903 | anomaly\n",
      "\n",
      "Cluster 0 <-- No class\n",
      "Cluster 1 <-- No class\n",
      "Cluster 2 <-- anomaly\n",
      "Cluster 3 <-- normal\n",
      "\n",
      "Incorrectly clustered instances :\t29466.0\t 23.3907 %\n",
      "\n"
     ]
    }
   ],
   "source": [
    "from weka.clusterers import Clusterer\n",
    "clusterer = Clusterer(classname=\"weka.clusterers.SimpleKMeans\", options=[\"-N\", \"4\"])\n",
    "clusterer.build_clusterer(norm_data)\n",
    "\n",
    "from weka.clusterers import ClusterEvaluation\n",
    "evaluator = ClusterEvaluation()\n",
    "evaluator.set_model(clusterer)\n",
    "evaluator.test_model(data)\n",
    "print(evaluator.cluster_results)"
   ]
  },
  {
   "cell_type": "markdown",
   "metadata": {},
   "source": [
    "# Step 5 - Analyze Results, Evaluate using other methods, Clean Up"
   ]
  },
  {
   "cell_type": "code",
   "execution_count": 5,
   "metadata": {
    "collapsed": true
   },
   "outputs": [],
   "source": [
    "jvm.stop()"
   ]
  }
 ],
 "metadata": {
  "kernelspec": {
   "display_name": "Python 3",
   "language": "python",
   "name": "python3"
  },
  "language_info": {
   "codemirror_mode": {
    "name": "ipython",
    "version": 3
   },
   "file_extension": ".py",
   "mimetype": "text/x-python",
   "name": "python",
   "nbconvert_exporter": "python",
   "pygments_lexer": "ipython3",
   "version": "3.6.1"
  }
 },
 "nbformat": 4,
 "nbformat_minor": 2
}
